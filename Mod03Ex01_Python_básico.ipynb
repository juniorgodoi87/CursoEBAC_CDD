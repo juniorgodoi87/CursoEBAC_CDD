{
  "nbformat": 4,
  "nbformat_minor": 0,
  "metadata": {
    "kernelspec": {
      "display_name": "Python 3",
      "language": "python",
      "name": "python3"
    },
    "language_info": {
      "codemirror_mode": {
        "name": "ipython",
        "version": 3
      },
      "file_extension": ".py",
      "mimetype": "text/x-python",
      "name": "python",
      "nbconvert_exporter": "python",
      "pygments_lexer": "ipython3",
      "version": "3.8.8"
    },
    "colab": {
      "name": "Mod03Ex01 - Python básico.ipynb",
      "provenance": [],
      "collapsed_sections": []
    }
  },
  "cells": [
    {
      "cell_type": "markdown",
      "metadata": {
        "id": "2ho_zFtijbeE"
      },
      "source": [
        "### 01 - Teste de gravidez\n",
        "Escreva uma célula com controle de fluxos que tem como premissa a existência das seguintes variáveis:\n",
        "\n",
        "- ```sexo``` como ```str``` indicando os valores '**M**' para masculino e '**F**' para feminino  \n",
        "- ```beta_hcg``` que indica a quantidade do beta-HCG no sangue em mUI/mL.\n",
        "\n",
        "A sua tarefa é escrever um código que imprima como resultado \"indivíduo do sexo masculino\" quando sexo = 'M', caso sexo = 'F', se o valor de beta-HCG for maior que 5, retorne \"Positivo\" indicando que a paciente está grávida, e retorne \"Negativo\" caso contrário.\n",
        "\n",
        "Não mexa nos valores da variável ```sexo``` nem em ```beta_hcg```, e escreva um código que funcione para quaisquer valores possíveis de ambos: ```sexo``` = '**M**' ou '**F**' e ```beta_hcg``` assumindo valores inteiros positivos."
      ]
    },
    {
      "cell_type": "code",
      "metadata": {
        "id": "f6_PjcKWjbeP",
        "outputId": "e9469a4c-d279-4100-e159-8f8363c709ba"
      },
      "source": [
        "sexo = 'M'\n",
        "beta_hcg = 0\n",
        "\n",
        "# seu código vem abaixo desta linha\n",
        "\n",
        "if sexo == 'M':\n",
        "    print(\"Indivíduo do sexo masculino\")\n",
        "\n",
        "elif beta_hcg > 5:\n",
        "    print(\"Positivo\")\n",
        "    \n",
        "else:\n",
        "    print(\"Negativo\")\n",
        "    \n"
      ],
      "execution_count": null,
      "outputs": [
        {
          "name": "stdout",
          "output_type": "stream",
          "text": [
            "Indivíduo do sexo masculino\n"
          ]
        }
      ]
    },
    {
      "cell_type": "markdown",
      "metadata": {
        "id": "oBJyvkOvjbeS"
      },
      "source": [
        "### 02 - Renomeando variáveis\n",
        "\n",
        "Vamos ver adiante que uma forma de renomear variáveis de um conjunto de dados é através de dicionários - o dicionário deve conter como chave o nome original, associando a cada chave um único valor (tipo *str*) que contenha o nome novo.\n",
        "\n",
        "A sua tarefa é escrever um dicionário que possa ser utilizado para traduzir as variáveis ```name``` (nome), ```age``` (idade) e ```income``` (renda). Ou seja, esse dicionário deve relacionar as chaves *name, age* e *income* às suas respectivas traduções."
      ]
    },
    {
      "cell_type": "code",
      "metadata": {
        "id": "smmY7IB5jbeT",
        "outputId": "b60ed208-1f41-461c-aa5f-60b35bbc978c"
      },
      "source": [
        "dic_renomeacao = {'name': 'nome', 'age': 'idade', 'income': 'renda'}\n",
        "dic_renomeacao['income']"
      ],
      "execution_count": null,
      "outputs": [
        {
          "data": {
            "text/plain": [
              "'renda'"
            ]
          },
          "execution_count": 2,
          "metadata": {},
          "output_type": "execute_result"
        }
      ]
    },
    {
      "cell_type": "markdown",
      "metadata": {
        "id": "WINTqTbjjbeU"
      },
      "source": [
        "### 03 - É divisível?\n",
        "A sua tarefa é escrever um código que indique se um número ```N``` é divisível por um número P. Escreva um programa que faça essa verificação para quaisquer combinações de ```N``` e ```M``` e devolva uma mensagem indicativa no output."
      ]
    },
    {
      "cell_type": "code",
      "metadata": {
        "colab": {
          "base_uri": "https://localhost:8080/"
        },
        "id": "i8yMOmUBjbeU",
        "outputId": "4aeab018-5fc7-49cd-f867-444c7f154b6d"
      },
      "source": [
        "N = 125\n",
        "M = 12\n",
        "\n",
        "if N % M == 0:\n",
        "    print('É divisível')\n",
        "\n",
        "else:\n",
        "    print('Não é divisível')"
      ],
      "execution_count": 7,
      "outputs": [
        {
          "output_type": "stream",
          "name": "stdout",
          "text": [
            "Não é divisível\n"
          ]
        }
      ]
    },
    {
      "cell_type": "markdown",
      "metadata": {
        "id": "GaEtl1aqjbeW"
      },
      "source": [
        "### 04 - Números primos\n",
        "> Um número **N** é primo se e somente se é divisível por 1, -1, por **N** e por -**N**.  \n",
        "\n",
        "Escreva um script que verifica se ```N``` é um número primo, verificando se ```N``` é divisível por todos os números de ```1``` a ```N-1```. Você vai precisar usar alguma ferramenta de *loop* que você aprendeu para isto. No final, devolva uma mensagem no output indicando se o número é primo ou não."
      ]
    },
    {
      "cell_type": "code",
      "metadata": {
        "colab": {
          "base_uri": "https://localhost:8080/"
        },
        "id": "Fu4Xd0UNjbeX",
        "outputId": "1228327c-9e2c-475d-d047-d16fd10bda30"
      },
      "source": [
        "N = 98\n",
        "\n",
        "# seu código abaixo\n",
        "resto = 0\n",
        "\n",
        "for M in range(1, N+1):\n",
        "    \n",
        "    if N % M == 0:\n",
        "        resto += 1\n",
        "    \n",
        "if resto == 2:\n",
        "    print('O número é primo')\n",
        "    \n",
        "else:\n",
        "    print('Não é primo')\n",
        "\n"
      ],
      "execution_count": 8,
      "outputs": [
        {
          "output_type": "stream",
          "name": "stdout",
          "text": [
            "Não é primo\n"
          ]
        }
      ]
    },
    {
      "cell_type": "markdown",
      "metadata": {
        "id": "jF4QjhhmjbeX"
      },
      "source": [
        "### 05 - Desafio\n",
        "O algorítmo do exercício anterior não é o mais eficiente. O que você pode fazer para deixá-lo mais eficiente? Ou seja, executar menos comparações, portanto consumir menos tempo.\n",
        "1. Será que precisamos correr o loop até o final sempre?\n",
        "2. Será que precisamos mesmo verificar **todos** os números?\n",
        "3. Será que precisamos ir até N-1?\n",
        "\n",
        "Essas perguntas levam ao tipo de pensamento voltado a deixar um algoritmo mais eficiente. Veja se você consegue melhorar o seu."
      ]
    },
    {
      "cell_type": "code",
      "metadata": {
        "colab": {
          "base_uri": "https://localhost:8080/"
        },
        "id": "WbQtnJMsjbeZ",
        "outputId": "8a970bc7-009e-4067-a4af-4ae2788a156c"
      },
      "source": [
        "\"\"\" Entendi foi nada hauhauhauhaha.\n",
        "Porque multiplicar N por 0,5?\n",
        "Para quebrar números maiores?\n",
        "E quanto a lógica booleana, \n",
        "quando ele identifica que o resto não é igual a zero\n",
        "sai do loop, isso?\"\"\"\n",
        "\n",
        "\n",
        "N = 98\n",
        "\n",
        "primo = True\n",
        "\n",
        "for i in range(2, int(N ** 0.5)):\n",
        "  if ((N % i) == 0):\n",
        "    primo = False\n",
        "    break\n",
        "if primo:\n",
        "  print('O número é primo')\n",
        "  \n",
        "else:\n",
        "  print('O número não é primo')\n",
        "\n"
      ],
      "execution_count": 18,
      "outputs": [
        {
          "output_type": "stream",
          "name": "stdout",
          "text": [
            "O número não é primo\n"
          ]
        }
      ]
    },
    {
      "cell_type": "code",
      "metadata": {
        "colab": {
          "base_uri": "https://localhost:8080/"
        },
        "id": "fpqv_ORTmmR8",
        "outputId": "97566335-dd9e-4dc2-d101-d9d67187732c"
      },
      "source": [
        "# a = int(N ** 0.5)\n"
      ],
      "execution_count": 16,
      "outputs": [
        {
          "output_type": "execute_result",
          "data": {
            "text/plain": [
              "9"
            ]
          },
          "metadata": {},
          "execution_count": 16
        }
      ]
    },
    {
      "cell_type": "markdown",
      "metadata": {
        "id": "vN5TV0qbjbeb"
      },
      "source": [
        "### 06 - Peso ideal 1\n",
        "O IMC (índice de massa corpórea) é um indicador de saúde mais bem aceito que o peso. Ele é calculado como:\n",
        "\n",
        "$$ IMC = \\dfrac{peso}{altura^2}$$\n",
        "\n",
        "Segundo a OMS, valores *normais* são entre 18.5 e 24.9.\n",
        "\n",
        "Sua tarefa é encontrar o ponto médio dessa faixa."
      ]
    },
    {
      "cell_type": "code",
      "metadata": {
        "colab": {
          "base_uri": "https://localhost:8080/"
        },
        "id": "vySibbUfjbeb",
        "outputId": "aec838b0-f64c-40a4-d3ca-c6a31335f41c"
      },
      "source": [
        "imc_ideal = (24.9 - 18.5) / 2 + 18.5\n",
        "\n",
        "imc_ideal"
      ],
      "execution_count": 9,
      "outputs": [
        {
          "output_type": "execute_result",
          "data": {
            "text/plain": [
              "21.7"
            ]
          },
          "metadata": {},
          "execution_count": 9
        }
      ]
    },
    {
      "cell_type": "markdown",
      "metadata": {
        "id": "A0iA7pU5jbec"
      },
      "source": [
        "### 07 - Peso ideal 2\n",
        "Recebendo um valor de altura, encontre o peso '*ideal*' dessa pessoa, que fornece o IMC encontrado acima"
      ]
    },
    {
      "cell_type": "code",
      "metadata": {
        "colab": {
          "base_uri": "https://localhost:8080/"
        },
        "id": "oAd0Aordjbec",
        "outputId": "58403610-d748-46c0-c918-52fa83283e98"
      },
      "source": [
        "altura = 1.70\n",
        "\n",
        "# Seu código\n",
        "\n",
        "peso_ideal = imc_ideal * altura ** 2 #valor obtido através de: peso = altura x² * IMC (21.7)\n",
        "\n",
        "peso_ideal"
      ],
      "execution_count": 10,
      "outputs": [
        {
          "output_type": "execute_result",
          "data": {
            "text/plain": [
              "62.712999999999994"
            ]
          },
          "metadata": {},
          "execution_count": 10
        }
      ]
    },
    {
      "cell_type": "markdown",
      "metadata": {
        "id": "ZthZckZrjbed"
      },
      "source": [
        "### 08 - Peso ideal 3\n",
        "Dada uma lista contendo as alturas de pacientes, crie uma nova lista que contenha o peso '*ideal*' (que fornece o IMC calculado em **Peso ideal 1**) desses pacientes."
      ]
    },
    {
      "cell_type": "code",
      "metadata": {
        "colab": {
          "base_uri": "https://localhost:8080/"
        },
        "id": "I_c5rVRCjbee",
        "outputId": "2ec78b78-84ca-4e3b-8044-6c90ab61c332"
      },
      "source": [
        "lista_alturas = [1.95, 2.05, 1.70, 1.65]\n",
        "lista_peso_ideal = []\n",
        "# seu código\n",
        "for i in lista_alturas:\n",
        "  lista_peso_ideal.append(round(imc_ideal * (i **2), 2))\n",
        "\n",
        "print(lista_peso_ideal)"
      ],
      "execution_count": 16,
      "outputs": [
        {
          "output_type": "stream",
          "name": "stdout",
          "text": [
            "[82.51, 91.19, 62.71, 59.08]\n"
          ]
        }
      ]
    },
    {
      "cell_type": "markdown",
      "metadata": {
        "id": "rO96adNHjbee"
      },
      "source": [
        "### 09 - Peso ideal 4\n",
        "Dada uma lista de tuplas - cada elemento da lista é uma tupla contendo altura e peso de um paciente - crie uma nova lista com o IMC desses pacientes."
      ]
    },
    {
      "cell_type": "code",
      "metadata": {
        "colab": {
          "base_uri": "https://localhost:8080/"
        },
        "id": "Zo8JkkWXjbef",
        "outputId": "7301db25-e412-4859-a0fd-6c2908a88fd5"
      },
      "source": [
        "altura_peso = [(1.80, 90), (1.65, 75), (1.91, 70)]\n",
        "\n",
        "imc = []\n",
        "\n",
        "# seu código\n",
        "for pessoa in altura_peso:\n",
        "  imc.append(round(pessoa[1]/pessoa[0] ** 2, 2))\n",
        "print(imc)\n"
      ],
      "execution_count": 39,
      "outputs": [
        {
          "output_type": "stream",
          "name": "stdout",
          "text": [
            "[27.78, 27.55, 19.19]\n"
          ]
        }
      ]
    },
    {
      "cell_type": "markdown",
      "metadata": {
        "id": "L_I4FSiEjbef"
      },
      "source": [
        "### 10 - Peso ideal 5\n",
        "Dada uma lista de **listas** - cada elemento da lista é uma **lista** contendo altura e peso de um paciente, adicione mais um elemento à lista de cada paciente contendo o IMC do paciente. Verifique também se é 'baixo', 'normal' ou 'alto' segundo os padrões da OMS em que normal é entre 18.5 e 24.9.\n",
        "\n",
        "Reflexão: por que no problema anterior temos que criar uma nova lista, e não podemos adicionar os dados de cada indivíduo à tupla?"
      ]
    },
    {
      "cell_type": "code",
      "metadata": {
        "colab": {
          "base_uri": "https://localhost:8080/"
        },
        "id": "ZCtgt6YXjbeg",
        "outputId": "6be936dc-11f5-4626-a62a-d622b6b5f762"
      },
      "source": [
        "altura_peso = [[1.80, 90], [1.65, 75], [1.91, 70]]\n",
        "\n",
        "# seu código\n",
        "for paciente in altura_peso:\n",
        "\n",
        "  if (round(paciente[1] / (paciente[0]** 2), 2) < 18.5):\n",
        "    print(paciente, 'IMC baixo')\n",
        "\n",
        "  elif (round(paciente[1] / (paciente[0]** 2), 2) > 24.9):\n",
        "    print(paciente, 'IMC alto')\n",
        "    \n",
        "  else:\n",
        "    print(paciente, 'IMC normal')\n"
      ],
      "execution_count": 89,
      "outputs": [
        {
          "output_type": "stream",
          "name": "stdout",
          "text": [
            "[1.8, 90] IMC alto\n",
            "[1.65, 75] IMC alto\n",
            "[1.91, 70] IMC normal\n"
          ]
        }
      ]
    },
    {
      "cell_type": "markdown",
      "metadata": {
        "id": "Te8DxVaWtBY7"
      },
      "source": [
        "Obrigado pelas dicas. saberia indicar algum livro sobre cálculo com python?\n",
        "Algo mais aprofundado em matrizes e laços de repetição e estruras de decisão.\n",
        "Parece tão fácil, mas mesmo assim acabo ficando confuso na elaboração.\n",
        "Obrigado novamente, ajudou muito.\n",
        "☕ 😃"
      ]
    },
    {
      "cell_type": "code",
      "metadata": {
        "id": "qyiiD-Sjt1y4"
      },
      "source": [
        ""
      ],
      "execution_count": null,
      "outputs": []
    }
  ]
}